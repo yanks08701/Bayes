{
 "cells": [
  {
   "cell_type": "markdown",
   "metadata": {},
   "source": [
    "Intuitive responses: 1. Chances of positive test:17% 2. 98% 3. 99.5% 4. 8%"
   ]
  },
  {
   "cell_type": "markdown",
   "metadata": {},
   "source": [
    "Calculated Responses: 1. Chances of positive test: .98*.005+.995*.1=.1044 or 10.44%\n",
    "2. Probablity disease given a positive test= Probabilty of positive test given disease (.98)* Probability disease(.005)/Probability of positive test (.1044)=.0469 or approximately 4.7%\n",
    "3.Probability non diseased given negative test= Probability of negative test given non diseased(.9)*Probability non diseased (.995)/Probability of negative test(1-.1044=.8956)=.9999 or 99.99%\n",
    "4. Probability of non disease given positive result + Probability of disease given negative result=.953+.000111 or approximately 95.3%\n",
    "Probability of non disease given positive result= Probability of positive result given non disease(.1)*probability of nondisease(.995)/probability of positive result(.1044)=.953\n",
    "Probability of disease given negative result= Probability of negative result given disease(.02)*probability of disease(.005)/probability of negative result(.8956)=.000111"
   ]
  }
 ],
 "metadata": {
  "kernelspec": {
   "display_name": "Python 3",
   "language": "python",
   "name": "python3"
  },
  "language_info": {
   "codemirror_mode": {
    "name": "ipython",
    "version": 3
   },
   "file_extension": ".py",
   "mimetype": "text/x-python",
   "name": "python",
   "nbconvert_exporter": "python",
   "pygments_lexer": "ipython3",
   "version": "3.7.0"
  }
 },
 "nbformat": 4,
 "nbformat_minor": 2
}
